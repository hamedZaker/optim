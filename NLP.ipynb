{
  "nbformat": 4,
  "nbformat_minor": 0,
  "metadata": {
    "colab": {
      "name": "NLP.ipynb",
      "provenance": []
    },
    "kernelspec": {
      "display_name": "Python 3",
      "name": "python3"
    },
    "language_info": {
      "name": "python"
    }
  },
  "cells": [
    {
      "cell_type": "code",
      "metadata": {
        "colab": {
          "base_uri": "https://localhost:8080/",
          "height": 285
        },
        "id": "6IV7Q6PcVRT7",
        "outputId": "837f2d0e-6092-4481-cee7-462020ff8333"
      },
      "source": [
        "# plot the feasibility region\n",
        "import numpy as np\n",
        "import matplotlib.pyplot as plt\n",
        "\n",
        "t = np.linspace(0,90,90)\n",
        "xg = 2*np.cos(np.radians(t))\n",
        "yg = np.sin(np.radians(t))\n",
        "plt.plot(xg,yg,'k--')\n",
        "plt.fill_between(xg, yg, color='blue', alpha = 0.3)\n",
        "xh = np.linspace(0,3,20)\n",
        "yh = (30 - 20*xh) / 15\n",
        "plt.plot(xh, yh)\n",
        "\n",
        "plt.xlim((0,2))\n",
        "plt.ylim((0,2))\n",
        "plt.xlabel(\"$x_1$\")\n",
        "plt.ylabel(\"$x_2$\")\n",
        "plt.grid()\n",
        "plt.show()"
      ],
      "execution_count": 2,
      "outputs": [
        {
          "output_type": "display_data",
          "data": {
            "image/png": "[encoded data removed]",
            "text/plain": [
              "<Figure size 432x288 with 1 Axes>"
            ]
          },
          "metadata": {
            "tags": [],
            "needs_background": "light"
          }
        }
      ]
    },
    {
      "cell_type": "code",
      "metadata": {
        "colab": {
          "base_uri": "https://localhost:8080/"
        },
        "id": "JUDx26At92n3",
        "outputId": "65d145d9-c5b4-4f36-d93a-9cfa5fe76ebe"
      },
      "source": [
        "# Solve the case of active or binding constaint directly using a nonlinear solver\n",
        "import scipy.optimize as opt\n",
        "# x1, x2, lambda, beta --> x[0], x[1], x[2], x[3]\n",
        "def J(x) :\n",
        "    eq1 = 0.5*x[3]*x[0] + x[1] + 20*x[2]\n",
        "    eq2 = x[0] + 2*x[3]*x[1] + 15*x[2]\n",
        "    eq3 = 4*x[0] + 3*x[1] - 6\n",
        "    eq4 = 0.25*x[0]**2 + x[1]**2 - 1\n",
        "    return [eq1, eq2, eq3, eq4]\n",
        "\n",
        "result = opt.fsolve(J, np.zeros(4)) \n",
        "print(result)\n"
      ],
      "execution_count": 3,
      "outputs": [
        {
          "output_type": "stream",
          "text": [
            "[ 0.81511541  0.91317946 -0.04391383 -0.08563926]\n"
          ],
          "name": "stdout"
        }
      ]
    },
    {
      "cell_type": "code",
      "metadata": {
        "id": "tOQo7Lev5rj3"
      },
      "source": [
        "# Define all equality and inequality constraints\n",
        "from scipy.optimize import Bounds\n",
        "from scipy.optimize import LinearConstraint\n",
        "from scipy.optimize import NonlinearConstraint\n",
        "from scipy.optimize import BFGS\n",
        "\n",
        "bounds = Bounds([0, 0], [3.0, 3.0])\n",
        "\n",
        "linear_constraint = LinearConstraint([[20, 15]], [30], [30])\n",
        "\n",
        "def g(x):\n",
        "  return [0.25*x[0]**2 + x[1]**2]\n",
        "def dg(x):\n",
        "  return [[0.5*x[0], 2*x[1]]]\n",
        "nonlinear_constraint = NonlinearConstraint(g, -np.inf, 1, jac=dg, hess=BFGS())"
      ],
      "execution_count": 4,
      "outputs": []
    },
    {
      "cell_type": "code",
      "metadata": {
        "colab": {
          "base_uri": "https://localhost:8080/"
        },
        "id": "tyfnUBxN72Ap",
        "outputId": "69750a24-cca9-46d1-be6d-b0c08212c20c"
      },
      "source": [
        "# The main minimization problem for f = -x1 * x2\n",
        "x0 = np.array([0.5, 0])\n",
        "def f(x):\n",
        "    return -x[0]*x[1]\n",
        "def df(x):\n",
        "  result = np.zeros_like(x)\n",
        "  result[0] = -x[1]\n",
        "  result[1] = -x[0]\n",
        "  return result\n",
        "\n",
        "from scipy.optimize import minimize\n",
        "sol = minimize(f, x0, method='trust-constr', jac=df, \n",
        "               constraints=[linear_constraint, nonlinear_constraint],\n",
        "               options={'verbose': 1}, bounds=bounds)\n",
        "print(\"Solution: \", sol.x)\n",
        "print(\"Lagrange multipliers: \", sol.v)"
      ],
      "execution_count": 6,
      "outputs": [
        {
          "output_type": "stream",
          "text": [
            "`gtol` termination condition is satisfied.\n",
            "Number of iterations: 15, function evaluations: 10, CG iterations: 9, optimality: 1.17e-09, constraint violation: 3.55e-15, execution time: 0.033 s.\n",
            "Solution:  [0.81532189 0.91290415]\n",
            "Lagrange multipliers:  [array([0.04389457]), array([0.08594715]), array([-2.46023363e-05, -1.97189895e-05])]\n"
          ],
          "name": "stdout"
        }
      ]
    }
  ]
}